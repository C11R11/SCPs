{
 "cells": [
  {
   "attachments": {},
   "cell_type": "markdown",
   "metadata": {},
   "source": [
    "![image](../docs/formulation1.PNG)"
   ]
  },
  {
   "cell_type": "code",
   "execution_count": 1,
   "metadata": {},
   "outputs": [],
   "source": [
    "#How many rows\n",
    "m = 5\n",
    "n = 10\n",
    "\n",
    "#Columns and the rows covering (subsets)\n",
    "S1 = [[1,3],[2],[1,2,5],[3,5],[4],[5],[1,3],[2,4,5],[1,2],[2,3]]\n",
    "\n",
    "#The cost for each column\n",
    "P1 = [11,4,9,12,5,4,13,12,8,9]\n",
    "\n",
    "#The rows list\n",
    "universe = set(range(1, m+1))"
   ]
  },
  {
   "attachments": {},
   "cell_type": "markdown",
   "metadata": {},
   "source": [
    "# Greedy set cover function"
   ]
  },
  {
   "cell_type": "code",
   "execution_count": null,
   "metadata": {},
   "outputs": [],
   "source": [
    "def set_cover(universe, subsets,costs):\n",
    "    cost=0\n",
    "    #Get all the distinct columns ids \n",
    "    elements = set(e for s in subsets for e in s)\n",
    "    if elements != universe:\n",
    "        return None\n",
    "    covered = set()\n",
    "    cover = []\n",
    "    while covered != elements:\n",
    "        subset = max(subsets, key=lambda s: len(s - covered)/costs[subsets.index(s)])\n",
    "        cover.append(subset)\n",
    "        cost+=costs[subsets.index(subset)]\n",
    "        covered |= subset\n",
    " \n",
    "    return cover, cost"
   ]
  },
  {
   "cell_type": "code",
   "execution_count": 13,
   "metadata": {},
   "outputs": [],
   "source": [
    "elements = set(e for s in S1 for e in s)\n",
    "covered = set()\n",
    "cover = []"
   ]
  },
  {
   "cell_type": "code",
   "execution_count": 30,
   "metadata": {},
   "outputs": [
    {
     "data": {
      "text/plain": [
       "(24, [0, 1, 4, 5])"
      ]
     },
     "execution_count": 30,
     "metadata": {},
     "output_type": "execute_result"
    }
   ],
   "source": [
    "#Here's a feasible solution \n",
    "cover = []\n",
    "columns = [0,1,4,5]\n",
    "cost = 0\n",
    "for col in columns:\n",
    "    cost += P1[col]\n",
    "cost, columns"
   ]
  },
  {
   "cell_type": "code",
   "execution_count": 31,
   "metadata": {},
   "outputs": [
    {
     "data": {
      "text/plain": [
       "[1, 3, 2, 4, 5]"
      ]
     },
     "execution_count": 31,
     "metadata": {},
     "output_type": "execute_result"
    }
   ],
   "source": [
    "#Checking all rows are covered\n",
    "for col in columns:\n",
    "    cover += S1[col]"
   ]
  },
  {
   "cell_type": "code",
   "execution_count": 38,
   "metadata": {},
   "outputs": [
    {
     "name": "stdout",
     "output_type": "stream",
     "text": [
      "[1, 3, 2, 4, 5]\n",
      "{1, 2, 3, 4, 5}\n",
      "{1, 2, 3, 4, 5}\n"
     ]
    },
    {
     "data": {
      "text/plain": [
       "True"
      ]
     },
     "execution_count": 38,
     "metadata": {},
     "output_type": "execute_result"
    }
   ],
   "source": [
    "print(cover)\n",
    "print(elements)\n",
    "my_set = set(cover)\n",
    "print(my_set)\n",
    "\n",
    "my_set == elements\n",
    "\n"
   ]
  }
 ],
 "metadata": {
  "kernelspec": {
   "display_name": "Python 3",
   "language": "python",
   "name": "python3"
  },
  "language_info": {
   "codemirror_mode": {
    "name": "ipython",
    "version": 3
   },
   "file_extension": ".py",
   "mimetype": "text/x-python",
   "name": "python",
   "nbconvert_exporter": "python",
   "pygments_lexer": "ipython3",
   "version": "3.11.0"
  },
  "orig_nbformat": 4,
  "vscode": {
   "interpreter": {
    "hash": "aee8b7b246df8f9039afb4144a1f6fd8d2ca17a180786b69acc140d282b71a49"
   }
  }
 },
 "nbformat": 4,
 "nbformat_minor": 2
}
